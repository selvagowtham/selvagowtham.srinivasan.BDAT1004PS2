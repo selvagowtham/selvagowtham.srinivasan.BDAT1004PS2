{
 "cells": [
  {
   "cell_type": "markdown",
   "id": "a29cf9fb",
   "metadata": {},
   "source": [
    "#                                            PROBLEM SET - 2 \n",
    "Student Id: 200493027\n",
    "\n",
    "#                                         DATA PROGRAMMING                               "
   ]
  },
  {
   "cell_type": "markdown",
   "id": "17ed7cd7",
   "metadata": {},
   "source": [
    "# Question 1\n",
    "After importing the module into the interpreter, you execute:What value is displayed when the last expression (a) is evaluated? Explain your answer by indicating what happens in every executed statement."
   ]
  },
  {
   "cell_type": "code",
   "execution_count": 1,
   "id": "9ac45f0b",
   "metadata": {},
   "outputs": [
    {
     "data": {
      "text/plain": [
       "6"
      ]
     },
     "execution_count": 1,
     "metadata": {},
     "output_type": "execute_result"
    }
   ],
   "source": [
    "#Module created with the fileName ModuleQ1  and imported\n",
    "import ModuleQ1\n",
    "#a ,with a gloabl reference is assigned a value of 0 and incremeneted to 2\n",
    "ModuleQ1.b()\n",
    "#a is incremented to 4\n",
    "ModuleQ1.b()\n",
    "#a is incremented to 6\n",
    "ModuleQ1.b()\n",
    "ModuleQ1.a"
   ]
  },
  {
   "cell_type": "markdown",
   "id": "c402e2cb",
   "metadata": {},
   "source": [
    "# Question 2\n",
    "Function fileLength(), given to you, takes the name of a file as input and returns\n",
    "the length of the file:"
   ]
  },
  {
   "cell_type": "code",
   "execution_count": 1,
   "id": "fa519354",
   "metadata": {},
   "outputs": [
    {
     "name": "stdout",
     "output_type": "stream",
     "text": [
      "Enter the File Name that needs to be opened and type exit to stop execution\tcurrencies.txt\n",
      "477\n",
      "Enter the File Name that needs to be opened and type exit to stop execution\trandom.txt\n",
      "File does not exist please retry\n",
      "Enter the File Name that needs to be opened and type exit to stop execution\texit\n"
     ]
    }
   ],
   "source": [
    "#method to open and read the file name\n",
    "def fileLength(fileName):\n",
    "    try:\n",
    "        file1 = open(fileName,\"r\")\n",
    "        data = file1.read()\n",
    "        print(len(data))\n",
    "    except FileNotFoundError:\n",
    "        #exception is handled here\n",
    "        print('File does not exist please retry')\n",
    "temp=True\n",
    "while(temp):\n",
    "    fileName = input(\"Enter the File Name that needs to be opened and type exit to stop execution\\t\")\n",
    "    if (fileName.lower()=='exit'):\n",
    "        temp = False\n",
    "        break\n",
    "    else:\n",
    "        fileLength(fileName)\n"
   ]
  },
  {
   "cell_type": "markdown",
   "id": "2b242df4",
   "metadata": {},
   "source": [
    "# Question 3\n",
    "Write a class named Marsupial that can be used as shown below: Now write a class named Kangaroo as a subclass of Marsupial that inherits all the\n",
    "attributes of Marsupial and also:\n",
    "a. extends the Marsupial __init__ constructor to take, as input, the\n",
    "coordinates x and y of the Kangaroo object,\n",
    "b. supports method jump that takes number values dx and dy as input and\n",
    "moves the kangaroo by dx units along the x-axis and by dy units along the yaxis, and\n",
    "c. overloads the __str__ operator so it behaves as shown below I am a Kangaroo located at coordinates (3,0)\n"
   ]
  },
  {
   "cell_type": "code",
   "execution_count": 7,
   "id": "a5f794aa",
   "metadata": {},
   "outputs": [
    {
     "name": "stdout",
     "output_type": "stream",
     "text": [
      "Enter the inputs for Marsupial and type exit to stop execution\tdoll\n",
      "Enter the inputs for Marsupial and type exit to stop execution\tfiretruck\n",
      "Enter the inputs for Marsupial and type exit to stop execution\tkitten\n",
      "Enter the inputs for Marsupial and type exit to stop execution\texit\n",
      "Enter the coordinates x,y for Kangaroo and type exit to stop execution and y to continue \ty\n",
      "enter x coordinate1\n",
      "enter y coordinate0\n",
      "Enter the coordinates x,y for Kangaroo and type exit to stop execution and y to continue \ty\n",
      "enter x coordinate1\n",
      "enter y coordinate0\n",
      "Enter the coordinates x,y for Kangaroo and type exit to stop execution and y to continue \ty\n",
      "enter x coordinate1\n",
      "enter y coordinate0\n",
      "Enter the coordinates x,y for Kangaroo and type exit to stop execution and y to continue \texit\n",
      "['doll', 'firetruck', 'kitten']\n",
      "I am a Kangaroo located at coordinates\t 3,0\n"
     ]
    }
   ],
   "source": [
    "#Parent Class\n",
    "class Marsupial:\n",
    "    itemsList = []\n",
    "    def put_in_pouch(self,items):\n",
    "        self.itemsList.append(items)\n",
    "    def Contents(self):\n",
    "        print(self.itemsList)\n",
    "#Child class\n",
    "class Kangaroo(Marsupial):\n",
    "    dx=0\n",
    "    dy=0\n",
    "    def jump(self,dx,dy):\n",
    "        self.dx=self.dx+dx\n",
    "        self.dy=self.dy+dy\n",
    "   \n",
    "    def __str__(self):\n",
    "        return \"I am a Kangaroo located at coordinates\\t \" + str(self.dx) +\",\"+ str(self.dy)\n",
    "\n",
    "m = Marsupial()\n",
    "temp=True\n",
    "while(temp):\n",
    "    name = input(\"Enter the inputs for Marsupial and type exit to stop execution\\t\")\n",
    "    if (name.lower()=='exit'):\n",
    "        temp = False\n",
    "        break\n",
    "    else:\n",
    "        m.put_in_pouch(name)\n",
    "k = Kangaroo()\n",
    "temp=True\n",
    "while(temp):\n",
    "    name = input(\"Enter the coordinates x,y for Kangaroo and type exit to stop execution and y to continue \\t\")\n",
    "    if (name.lower()=='exit'):\n",
    "        temp = False\n",
    "        break\n",
    "    else:\n",
    "        x = input(\"enter x coordinate\")\n",
    "        y = input(\"enter y coordinate\")\n",
    "        k.jump(int(x),int(y))    \n",
    "m.Contents()\n",
    "print(k)"
   ]
  },
  {
   "cell_type": "markdown",
   "id": "ee70cc3f",
   "metadata": {},
   "source": [
    "# Question 4\n",
    "Write function collatz() that takes a positive integer x as input and prints the\n",
    "Collatz sequence starting at x. A Collatz sequence is obtained by repeatedly applying\n",
    "this rule to the previous number x in the sequence:\n",
    "x = {\n",
    "𝑥/2 𝑖𝑓 𝑥 𝑖𝑠 𝑒𝑣𝑒𝑛\n",
    "3𝑥 + 1 𝑖𝑓 𝑥 𝑖𝑠 𝑜𝑑𝑑\n",
    "Your function should stop when the sequence gets to number 1. Your\n",
    "implementation must be recursive, without any loops."
   ]
  },
  {
   "cell_type": "code",
   "execution_count": 8,
   "id": "890c700a",
   "metadata": {},
   "outputs": [
    {
     "name": "stdout",
     "output_type": "stream",
     "text": [
      "Enter the number and type exit to stop execution \t1\n",
      "1\n",
      "Enter the number and type exit to stop execution \t10\n",
      "10\n",
      "5.0\n",
      "16.0\n",
      "8.0\n",
      "4.0\n",
      "2.0\n",
      "1.0\n",
      "Enter the number and type exit to stop execution \texit\n"
     ]
    }
   ],
   "source": [
    "def collatz(x):\n",
    "    while(x>1):\n",
    "        if (x % 2) == 0:\n",
    "            print(x)\n",
    "            x=x/2\n",
    "        else:\n",
    "            print(x)\n",
    "            x=(3*x)+1\n",
    "    print(x)\n",
    "temp = True\n",
    "while(temp):\n",
    "    num = input(\"Enter the number and type exit to stop execution \\t\")\n",
    "    if (num.lower()=='exit'):\n",
    "        temp = False\n",
    "        break\n",
    "    else:\n",
    "        collatz(int(num))\n"
   ]
  },
  {
   "cell_type": "markdown",
   "id": "133fdeb3",
   "metadata": {},
   "source": [
    "# Question 5\n",
    "Write a recursive method binary() that takes a non-negative\n",
    "integer n and prints the binary representation of integer n."
   ]
  },
  {
   "cell_type": "code",
   "execution_count": 11,
   "id": "29d2c567",
   "metadata": {},
   "outputs": [
    {
     "name": "stdout",
     "output_type": "stream",
     "text": [
      "\n",
      "Enter the number and type exit to stop execution \t0\n",
      "0\n",
      "Enter the number and type exit to stop execution \t1\n",
      "1\n",
      "Enter the number and type exit to stop execution \t3\n",
      "11\n",
      "Enter the number and type exit to stop execution \t9\n",
      "1001\n",
      "Enter the number and type exit to stop execution \texit\n"
     ]
    }
   ],
   "source": [
    "#method to convert binary using recursion\n",
    "def binary(n):\n",
    "   if n > 1:\n",
    "       binary(n//2)\n",
    "    #delimeter is changed to blank and the remainder of 2 is appended\n",
    "   print(n % 2,end = '')\n",
    "temp = True\n",
    "while(temp):\n",
    "    num = input(\"\\nEnter the number and type exit to stop execution \\t\")\n",
    "    if (num.lower()=='exit'):\n",
    "        temp = False\n",
    "        break\n",
    "    else:\n",
    "        binary(int(num))"
   ]
  },
  {
   "cell_type": "markdown",
   "id": "fbb605f6",
   "metadata": {},
   "source": [
    "# Question 6\n",
    "Implement a class named HeadingParser that can be used to parse an HTML\n",
    "document, and retrieve and print all the headings in the document. You should\n",
    "implement your class as a subclass of HTMLParser, defined in Standard Library\n",
    "module html.parser. When fed a string containing HTML code, your class should\n",
    "print the headings, one per line and in the order in which they appear in the\n",
    "document. Each heading should be indented as follows: an h1 heading should have \n",
    "indentation 0, and h2 heading should have indentation 1, etc. Test your\n",
    "implementation using w3c.html.\n"
   ]
  },
  {
   "cell_type": "code",
   "execution_count": 14,
   "id": "e6f390ff",
   "metadata": {},
   "outputs": [
    {
     "name": "stdout",
     "output_type": "stream",
     "text": [
      "W3C Mission\n",
      "Principles\n"
     ]
    }
   ],
   "source": [
    "from html.parser import HTMLParser\n",
    "#available tags in python\n",
    "headerTags = [\"h1\",\"h2\",\"h3\",\"h4\",\"h5\",\"h6\"]\n",
    "class HeadingParser(HTMLParser):\n",
    "    isHeadingPresent = False\n",
    "    #if the tag is part of header tags then set the boolean to true\n",
    "    def handle_starttag(self, tag, attrs):\n",
    "        if tag in headerTags:\n",
    "            self.isHeadingPresent = True\n",
    "    #if boolean is true then print data\n",
    "    def handle_data(self, data):\n",
    "        if self.isHeadingPresent:\n",
    "            print(data)\n",
    "    #the following method avoids the blanks in the output as we are setting it false again\n",
    "    def handle_endtag(self, tag):\n",
    "        if tag in headerTags:\n",
    "            self.isHeadingPresent = False\n",
    "hParser = HeadingParser()\n",
    "file = open(\"w3c.html\", \"r\")\n",
    "html = file.read()\n",
    "file.close()\n",
    "hParser.feed(html)"
   ]
  },
  {
   "cell_type": "markdown",
   "id": "30576f37",
   "metadata": {},
   "source": [
    "# Question 7\n",
    "Implement recursive function webdir() that takes as input: a URL (as a string) and\n",
    "non-negative integers depth and indent. Your function should visit every web\n",
    "page reachable from the starting URL web page in depth clicks or less, and print\n",
    "each web page's URL. As shown below, indentation, specified by indent, should\n",
    "be used to indicate the depth of a URL.\n"
   ]
  },
  {
   "cell_type": "code",
   "execution_count": 3,
   "id": "ee294b50",
   "metadata": {},
   "outputs": [
    {
     "name": "stdout",
     "output_type": "stream",
     "text": [
      "must do this\n"
     ]
    }
   ],
   "source": [
    "from urllib.request import urljoin\n",
    "from html.parser import HTMLParser\n",
    "class Collector(HTMLParser):\n",
    "    def __init__(self,url):\n",
    "        HTMLParser.__init__(self)\n",
    "        self.url=url\n",
    "        self.links=[]\n",
    "    def handle_starttag(self,tag,attrs):\n",
    "        if tag=='a':\n",
    "            for attr in attrs:\n",
    "                if attr[0] == 'href':\n",
    "                    absolute = urljoin(self.url,attr[1])\n",
    "                if absolute[:4] == 'http':\n",
    "                    self.links.append(absolute)\n",
    "    def getLinks(self):\n",
    "        self.links\n",
    "url = 'http://reed.cs.depaul.edu/lperkovic/csc242/test1.html'\n",
    "resource = urlopen(url)\n",
    "content = resource.read.decode()\n",
    "collectcor = collector(url)\n",
    "collector.feed(content)\n",
    "collector.getLinks()"
   ]
  },
  {
   "cell_type": "markdown",
   "id": "f30d501b",
   "metadata": {},
   "source": [
    "# Question 8\n",
    "Write SQL queries on the below database table that return:\n",
    "a) All the temperature data.\n",
    "b) All the cities, but without repetition.\n",
    "c) All the records for India.\n",
    "d) All the Fall records.\n",
    "e) The city, country, and season for which the average rainfall is between 200\n",
    "and 400 millimeters.\n",
    "f) The city and country for which the average Fall temperature is above 20\n",
    "degrees, in increasing temperature order.\n",
    "g) The total annual rainfall for Cairo.\n",
    "h) The total rainfall for each season."
   ]
  },
  {
   "cell_type": "code",
   "execution_count": 31,
   "id": "266601d5",
   "metadata": {},
   "outputs": [
    {
     "name": "stdout",
     "output_type": "stream",
     "text": [
      "Opened database successfully\n",
      "Table created successfully\n",
      "\n",
      "temperature details for question 8a\n",
      "24.8\t28.4\t27.9\t27.6\t4.2\t8.3\t15.7\t10.4\t13.6\t20.7\t27.7\t22.2\t\n",
      "\n",
      "8b Distinct cities for question\n",
      "Mumbai\tLondon\tCairo\t\n",
      "\n",
      "8c All the details of the country India\n",
      "[('Mumbai', 'India', 'Winter', 24.8, 5.9), ('Mumbai', 'India', 'Spring', 28.4, 16.2), ('Mumbai', 'India', 'Summer', 27.9, 1549.4), ('Mumbai', 'India', 'Fall', 27.6, 346.0)]\n",
      "\n",
      "\n",
      "8d All the Fall records\n",
      "[('Mumbai', 'India', 'Fall', 27.6, 346.0), ('London', 'United Kingdom', 'Fall', 10.4, 218.5), ('Cairo', 'Egypt', 'Fall', 22.2, 4.5)]\n",
      "\n",
      "8e The city, country, and season for which the average rainfall is between 200 and 400 millimeters\n",
      "[('London', 'United Kingdom', 'Fall'), ('London', 'United Kingdom', 'Winter'), ('Mumbai', 'India', 'Fall')]\n",
      "\n",
      "8f The city and country for which the average Fall temperature is above 20 degrees, in increasing temperature order.\n",
      "[('Cairo', 'Egypt'), ('Mumbai', 'India')]\n",
      "\n",
      "8g The total annual rainfall for Cairo.\n",
      "[('Cairo', 27.6)]\n",
      "\n",
      "8h The total rainfall for each season..\n",
      "[('Fall', 569.0), ('Spring', 192.29999999999998), ('Summer', 1706.5), ('Winter', 230.1)]\n"
     ]
    }
   ],
   "source": [
    "import sqlite3\n",
    "#opening a DB\n",
    "conn = sqlite3.connect('PS2.db')\n",
    "print (\"Opened database successfully\")\n",
    "#drop the table if it already exists\n",
    "conn.execute(\"drop table Weather\")\n",
    "#commit the changes as the buffer will be freed up\n",
    "conn.commit()\n",
    "#table creation\n",
    "conn.execute('''CREATE TABLE Weather(\n",
    "\tcity varchar(10) ,\n",
    "\tcountry varchar(10) ,\n",
    "\tseason varchar(10) ,\n",
    "\ttemperature float ,\n",
    "\trainfall float \n",
    "); ''')\n",
    "print (\"Table created successfully\")\n",
    "conn.commit()\n",
    "conn.execute(\"INSERT INTO Weather (city,country,season,temperature,rainfall) values \\\n",
    "             ('Mumbai' ,'India' ,'Winter', 24.8 ,5.9)\");\n",
    "\n",
    "conn.execute(\"INSERT INTO Weather (city,country,season,temperature,rainfall) values \\\n",
    "             ('Mumbai' ,'India' ,'Spring', 28.4 ,16.2)\");\n",
    "\n",
    "conn.execute(\"INSERT INTO Weather (city,country,season,temperature,rainfall) values \\\n",
    "            ('Mumbai' ,'India' ,'Summer', 27.9 ,1549.4)\");\n",
    "\n",
    "conn.execute(\"INSERT INTO Weather (city,country,season,temperature,rainfall) values \\\n",
    "            ('Mumbai' ,'India' ,'Fall' ,27.6, 346.0)\");\n",
    "conn.execute(\"INSERT INTO Weather (city,country,season,temperature,rainfall) values \\\n",
    "            ('London' ,'United Kingdom' ,'Winter' ,4.2 ,207.7)\");\n",
    "conn.execute(\"INSERT INTO Weather (city,country,season,temperature,rainfall) values \\\n",
    "             ('London' ,'United Kingdom' ,'Spring',8.3 ,169.6)\");\n",
    "conn.execute(\"INSERT INTO Weather (city,country,season,temperature,rainfall) values \\\n",
    "             ('London' ,'United Kingdom' ,'Summer' ,15.7, 157.0)\");\n",
    "conn.execute(\"INSERT INTO Weather (city,country,season,temperature,rainfall) values \\\n",
    "             ('London' ,'United Kingdom' ,'Fall' ,10.4, 218.5)\");\n",
    "conn.execute(\"INSERT INTO Weather (city,country,season,temperature,rainfall) values \\\n",
    "             ('Cairo','Egypt' ,'Winter' ,13.6 ,16.5)\");\n",
    "conn.execute(\"INSERT INTO Weather (city,country,season,temperature,rainfall) values \\\n",
    "             ('Cairo' ,'Egypt' ,'Spring' ,20.7 ,6.5)\");\n",
    "conn.execute(\"INSERT INTO Weather (city,country,season,temperature,rainfall) values \\\n",
    "             ('Cairo' ,'Egypt' ,'Summer' ,27.7 ,0.1)\");\n",
    "conn.execute(\"INSERT INTO Weather (city,country,season,temperature,rainfall) values \\\n",
    "             ('Cairo','Egypt' ,'Fall' ,22.2 ,4.5)\");\n",
    "conn.commit()\n",
    "#a\n",
    "cursor = conn.execute(\"SELECT Temperature FROM Weather\");\n",
    "print(\"\\ntemperature details for question 8a\")\n",
    "for row in cursor:\n",
    "    print(row[0], end = '\\t')\n",
    "#b\n",
    "cursor = conn.execute(\"SELECT distinct city FROM Weather\");\n",
    "print(\"\\n\\n8b Distinct cities for question\")\n",
    "for row in cursor:\n",
    "    print(row[0], end = '\\t')\n",
    "#c\n",
    "print(\"\\n\\n8c All the details of the country India\")\n",
    "cursor = conn.execute(\"SELECT * FROM Weather where Country = 'India'\");\n",
    "print(cursor.fetchall())\n",
    "#d\n",
    "print(\"\\n\\n8d All the Fall records\")\n",
    "cursor = conn.execute(\"SELECT * FROM Weather where season  = 'Fall'\");\n",
    "print(cursor.fetchall())\n",
    "#e\n",
    "print(\"\\n8e The city, country, and season for which the average rainfall is between 200 and 400 millimeters\")\n",
    "cursor = conn.execute(\"SELECT city,country,season FROM Weather group by city,country,season having  avg(rainfall) > 200 and  avg(rainfall) < 400\");\n",
    "print(cursor.fetchall())\n",
    "#f\n",
    "print(\"\\n8f The city and country for which the average Fall temperature is above 20 degrees, in increasing temperature order.\")\n",
    "cursor = conn.execute(\"SELECT city,country FROM Weather where  season = 'Fall' group by city,country having  avg(temperature) > 20\");\n",
    "print(cursor.fetchall())\n",
    "#g\n",
    "print(\"\\n8g The total annual rainfall for Cairo.\")\n",
    "cursor = conn.execute(\"SELECT city,sum(rainfall) as annualRain FROM Weather  group by city having  city = 'Cairo'\");\n",
    "print(cursor.fetchall())\n",
    "#h\n",
    "print(\"\\n8h The total rainfall for each season..\")\n",
    "cursor = conn.execute(\"SELECT season,sum(rainfall) as annualRain FROM Weather  group by season\");\n",
    "print(cursor.fetchall())\n",
    "conn.close()"
   ]
  },
  {
   "cell_type": "markdown",
   "id": "7b4a6afe",
   "metadata": {},
   "source": [
    "# Question 9\n",
    "Suppose list words is defined as follows:\n",
    "words = ['The', 'quick', 'brown', 'fox', 'jumps', 'over',\n",
    "'the', 'lazy', 'dog']\n",
    "Write list comprehension expressions that use list words and generate the following\n",
    "lists:\n",
    "a) ['THE', 'QUICK', 'BROWN', 'FOX', 'JUMPS', 'OVER', 'THE',\n",
    "'LAZY', 'DOG']\n",
    "b) ['the', 'quick', 'brown', 'fox', 'jumps', 'over', 'the','lazy', 'dog']\n",
    "c) [3, 5, 5, 3, 5, 4, 3, 4, 3] (the list of lengths of words in list\n",
    "words).\n",
    "d) [['THE', 'the', 3], ['QUICK', 'quick', 5], ['BROWN','brown', 5], ['FOX', 'fox', 3], ['JUMPS', 'jumps', 5],\n",
    "['OVER', 'over', 4], ['THE', 'the', 3], ['LAZY', 'lazy',\n",
    "4], ['DOG', 'dog', 3]] (the list containing a list for every word of list\n",
    "words, where each list contains the word in uppercase and lowercase and the\n",
    "length of the word.)\n",
    "e) ['The', 'quick', 'brown', 'fox', 'jumps', 'over', 'the',\n",
    "'lazy', 'dog'] (the list of words in list words containing 4 or more\n",
    "characters.)"
   ]
  },
  {
   "cell_type": "code",
   "execution_count": 38,
   "id": "41f36e12",
   "metadata": {},
   "outputs": [
    {
     "name": "stdout",
     "output_type": "stream",
     "text": [
      "\n",
      "9a Print the List with UpperCase\n",
      "['THE', 'QUICK', 'BROWN', 'FOX', 'JUMPS', 'OVER', 'THE', 'LAZY', 'DOG']\n",
      "\n",
      "9b Print the List with LowerCase\n",
      "['the', 'quick', 'brown', 'fox', 'jumps', 'over', 'the', 'lazy', 'dog']\n",
      "\n",
      "9c (the list of lengths of words in list words\n",
      "[3, 5, 5, 3, 5, 4, 3, 4, 3]\n",
      "\n",
      "9d the list containing a list for every word of list words, where each list contains the word in uppercase and lowercase and the length of the word\n",
      "[['THE', 'the', 3], ['QUICK', 'quick', 5], ['BROWN', 'brown', 5], ['FOX', 'fox', 3], ['JUMPS', 'jumps', 5], ['OVER', 'over', 4], ['THE', 'the', 3], ['LAZY', 'lazy', 4], ['DOG', 'dog', 3]]\n",
      "\n",
      "9e (the list of words in list words containing 4 or more characters\n",
      "['quick', 'brown', 'jumps', 'over', 'lazy']\n"
     ]
    }
   ],
   "source": [
    "words = ['The', 'quick', 'brown', 'fox', 'jumps', 'over',\n",
    "'the', 'lazy', 'dog']\n",
    "\n",
    "upperCaseList = []\n",
    "lowerCaseList = []\n",
    "stringLength = []\n",
    "for i in words:\n",
    "    upperCaseList.append(i.upper())\n",
    "print(\"\\n9a Print the List with UpperCase\")\n",
    "print(upperCaseList)\n",
    "\n",
    "for i in words:\n",
    "    lowerCaseList.append(i.lower())\n",
    "print(\"\\n9b Print the List with LowerCase\")\n",
    "print(lowerCaseList)\n",
    "\n",
    "for i in words:\n",
    "    stringLength.append(len(i))\n",
    "print(\"\\n9c (the list of lengths of words in list words\")\n",
    "print(stringLength)\n",
    "temp=[]\n",
    "for i in range(len(words)):\n",
    "    temp2List = []\n",
    "    temp2List.append(words[i].upper())\n",
    "    temp2List.append(words[i].lower())\n",
    "    temp2List.append(len(words[i]))\n",
    "    temp.append(temp2List)\n",
    "print(\"\\n9d the list containing a list for every word of list words, where each list contains the word in uppercase and lowercase and the length of the word\")\n",
    "print(temp)\n",
    "temp.clear()\n",
    "print(\"\\n9e (the list of words in list words containing 4 or more characters\")\n",
    "for i in words:\n",
    "    if len(i) >=4:\n",
    "        temp.append(i)\n",
    "print(temp)"
   ]
  }
 ],
 "metadata": {
  "kernelspec": {
   "display_name": "Python 3",
   "language": "python",
   "name": "python3"
  },
  "language_info": {
   "codemirror_mode": {
    "name": "ipython",
    "version": 3
   },
   "file_extension": ".py",
   "mimetype": "text/x-python",
   "name": "python",
   "nbconvert_exporter": "python",
   "pygments_lexer": "ipython3",
   "version": "3.8.8"
  }
 },
 "nbformat": 4,
 "nbformat_minor": 5
}
